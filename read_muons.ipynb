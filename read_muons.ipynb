{
 "cells": [
  {
   "cell_type": "code",
   "execution_count": 151,
   "metadata": {},
   "outputs": [],
   "source": [
    "import pandas as pd\n",
    "import matplotlib.pyplot as plt\n",
    "from pathlib import Path\n",
    "import numpy as np\n",
    "import csv"
   ]
  },
  {
   "cell_type": "markdown",
   "metadata": {},
   "source": [
    "#### Script Description\n",
    "Read in the data file from Cosmic Muon measurements that pass Leslie's cuts\n",
    "and bin them into a histogram. \n",
    "\n",
    "Convert the histogram to a dataframe to spit out into a csv file. Also add in\n",
    "the bin edges of the histogram to the csv file. "
   ]
  },
  {
   "cell_type": "code",
   "execution_count": 152,
   "metadata": {},
   "outputs": [
    {
     "name": "stdout",
     "output_type": "stream",
     "text": [
      "[0.         0.2026834  0.40536679 0.60805019 0.81073359 1.01341699\n",
      " 1.21610038 1.41878378 1.62146718 1.82415057 2.02683397 2.22951737\n",
      " 2.43220076 2.63488416 2.83756756 3.04025096 3.24293435 3.44561775\n",
      " 3.64830115 3.85098454 4.05366794 4.25635134 4.45903473 4.66171813\n",
      " 4.86440153 5.06708493 5.26976832 5.47245172 5.67513512 5.87781851\n",
      " 6.08050191 6.28318531]\n",
      "[0.         0.05235988 0.10471976 0.15707963 0.20943951 0.26179939\n",
      " 0.31415927 0.36651914 0.41887902 0.4712389  0.52359878 0.57595865\n",
      " 0.62831853 0.68067841 0.73303829 0.78539816 0.83775804 0.89011792\n",
      " 0.9424778  0.99483767 1.04719755 1.09955743 1.15191731 1.20427718\n",
      " 1.25663706 1.30899694 1.36135682 1.41371669 1.46607657 1.51843645\n",
      " 1.57079633]\n"
     ]
    },
    {
     "data": {
      "image/png": "[encoded data removed]",
      "text/plain": [
       "<Figure size 432x288 with 1 Axes>"
      ]
     },
     "metadata": {
      "needs_background": "light"
     },
     "output_type": "display_data"
    }
   ],
   "source": [
    "\n",
    "pi = np.pi\n",
    "\n",
    "# Bin edges\n",
    "binEdges_beta = np.linspace(0-0.21666156/2.0, 2*np.pi-0.21666156/2.0,30)\n",
    "\n",
    "binEdges_alpha = np.linspace(0.4-0.02/2.0, 1-0.02/2.0, 31)\n",
    "binEdges_alpha = binEdges_alpha[::-1]\n",
    "binEdges_alpha = np.arccos(binEdges_alpha)\n",
    "\n",
    "binEdges_alpha = np.linspace(0, pi/2, 31)\n",
    "binEdges_beta = np.linspace(0, 2*pi, 32)\n",
    "\n",
    "\n",
    "print(binEdges_beta)\n",
    "print(binEdges_alpha)\n",
    "\n",
    "data   = pd.read_hdf(\"MeasuredMuonsFromData.h5\") # Read in data\n",
    "\n",
    "# Add 220deg to beta\n",
    "data[\"beta\"] = data[\"beta\"] + pi*(210)/180 \n",
    "\n",
    "# # Account for rotational symmetry\n",
    "data.loc[data.beta>=pi*2, \"beta\"] = data[\"beta\"] - pi*2\n",
    "data.loc[data.beta<=0, \"beta\"] = data[\"beta\"] + pi*2\n",
    "\n",
    "# # Reverse direction of beta to opposite direction\n",
    "data[\"beta\"] = -1*(data[\"beta\"] - pi*2)\n",
    "\n",
    "hist_data = plt.hist2d(data[\"beta\"], data[\"alpha\"], bins=[binEdges_beta, binEdges_alpha]) \n",
    "# hist_data= plt.hist2d(data[\"beta\"], data[\"alpha\"], bins = 100) \n",
    "plt.xlabel(\"beta\", fontsize=18)\n",
    "plt.ylabel(\"alpha\", fontsize=18)\n",
    "plt.xticks(fontsize=15)\n",
    "plt.yticks(fontsize=15) \n",
    "plt.tight_layout()\n",
    "plt.show()\n"
   ]
  },
  {
   "cell_type": "code",
   "execution_count": 153,
   "metadata": {},
   "outputs": [
    {
     "name": "stdout",
     "output_type": "stream",
     "text": [
      "32 30\n"
     ]
    }
   ],
   "source": [
    "# Now convert the histogram to dataframe\n",
    "rows = []\n",
    "columns = []\n",
    "\n",
    "# Get the Bin Centers to loop over\n",
    "for indx in range(0, len(hist_data[1])-1):\n",
    "    rows.append( (hist_data[1][indx+1] - hist_data[1][indx])/2.0 + hist_data[1][indx])\n",
    "    # print(rows[indx])\n",
    "\n",
    "for indx in range(0, len(hist_data[2])-1):\n",
    "    columns.append( (hist_data[2][indx+1] - hist_data[2][indx])/2.0 + hist_data[2][indx])\n",
    "    # print(columns[indx])\n",
    "\n",
    "# Loop over the histogram bins and create three arrays \n",
    "# print(len(hist_data[0][:]), len(rows), len(columns))\n",
    "\n",
    "intensity = []\n",
    "beta      = []\n",
    "alpha     = []\n",
    "\n",
    "# Bin edges\n",
    "binCentres_beta = np.linspace(0, 2*np.pi,30)\n",
    "\n",
    "binCentres_alpha = np.linspace(0.4, 1, 31)\n",
    "binCentres_alpha = binCentres_alpha[::-1]\n",
    "binCentres_alpha = np.arccos(binCentres_alpha)\n",
    "\n",
    "binCentres_alpha = np.linspace(0, pi/2, 31)\n",
    "binCentres_beta = np.linspace(0, 2*pi, 32)\n",
    "\n",
    "\n",
    "print(len(binCentres_beta), len(hist_data[0][0]))\n",
    "\n",
    "for y in range(0, len(hist_data[0])):\n",
    "    for x in range(0, len(hist_data[0][y])):\n",
    "        # print(hist_data[0][y][x], rows[y], columns[x])\n",
    "\n",
    "        if (binCentres_alpha[x] != 0):\n",
    "            intensity.append(hist_data[0][y][x])\n",
    "            beta.append(binCentres_beta[y])\n",
    "            alpha.append(binCentres_alpha[x])\n",
    "    \n",
    "    # print(\" \")\n",
    "\n",
    "dict_ = {'Intenisty':intensity, 'azimuth': beta, 'zenith': alpha}\n",
    "\n",
    "dataframe = pd.DataFrame(dict_)\n",
    "# display(dataframe)"
   ]
  },
  {
   "cell_type": "code",
   "execution_count": 154,
   "metadata": {},
   "outputs": [],
   "source": [
    "# Write the data from hdf5 format to csv for reading into nexus\n",
    "filepath = Path('MeasuredMuonsFromData.csv')  \n",
    "dataframe.to_csv(filepath, index = False, header = False)  \n",
    "\n",
    "# Write the bins to file \n",
    "\n",
    "with open(r'MeasuredMuonsFromData.csv', 'a') as f:\n",
    "    writer = csv.writer(f)\n",
    "    \n",
    "    # Write the alpha bin edges\n",
    "    for i in range(len(binCentres_alpha)):\n",
    "        writer.writerow(['zenith', binCentres_alpha[i]])\n",
    "\n",
    "    # Write the alpha bin edges\n",
    "    for i in range(len(binCentres_beta)):\n",
    "        writer.writerow(['azimuth',binCentres_beta[i]])\n",
    "\n"
   ]
  }
 ],
 "metadata": {
  "interpreter": {
   "hash": "b0fa6594d8f4cbf19f97940f81e996739fb7646882a419484c72d19e05852a7e"
  },
  "kernelspec": {
   "display_name": "Python 3.9.7 64-bit",
   "language": "python",
   "name": "python3"
  },
  "language_info": {
   "codemirror_mode": {
    "name": "ipython",
    "version": 3
   },
   "file_extension": ".py",
   "mimetype": "text/x-python",
   "name": "python",
   "nbconvert_exporter": "python",
   "pygments_lexer": "ipython3",
   "version": "3.10.2"
  },
  "orig_nbformat": 4
 },
 "nbformat": 4,
 "nbformat_minor": 2
}
