{
 "cells": [
  {
   "cell_type": "code",
   "execution_count": 162,
   "metadata": {},
   "outputs": [],
   "source": [
    "import matplotlib as mpl\n",
    "import numpy as np\n",
    "import scipy \n",
    "import pickle\n",
    "import pylab as plt\n",
    "import copy\n",
    "import pandas as pd\n",
    "from pathlib import Path\n",
    "%matplotlib inline\n",
    "import csv   "
   ]
  },
  {
   "cell_type": "code",
   "execution_count": 163,
   "metadata": {},
   "outputs": [
    {
     "data": {
      "text/plain": [
       "dict_keys([100, 300, 400, 450, 500, 550, 600, 650, 700, 800, 900, 1000, 2000, 4000, 6000])"
      ]
     },
     "execution_count": 163,
     "metadata": {},
     "output_type": "execute_result"
    }
   ],
   "source": [
    "# Load in the files\n",
    "f=open(\"./MCEqFluxMeshes.pkl\",\"rb\")\n",
    "EBins, cosas, bs, FluxMeshes= pickle.load(f)\n",
    "f.close()\n",
    "\n",
    "f=open(\"./LinInterps.pkl\",\"rb\")\n",
    "LinInterps=pickle.load(f)\n",
    "f.close()\n",
    "\n",
    "LinInterps.keys()"
   ]
  },
  {
   "cell_type": "code",
   "execution_count": 164,
   "metadata": {},
   "outputs": [],
   "source": [
    "eps=0.01\n",
    "survivalfractions=[]\n",
    "correctedmeshes=[]\n",
    "\n",
    "for ei in range(0,len(EBins)-2):\n",
    "    \n",
    "    mesh=copy.copy(FluxMeshes[ei])\n",
    "    survmesh=np.zeros_like(mesh)\n",
    "    \n",
    "    for ica in range(len(cosas)):\n",
    "    \n",
    "        for ib in range(len(bs)):\n",
    "            surv=LinInterps[EBins[ei]](cosas[ica]+eps,bs[ib])\n",
    "            survmesh[ica,ib]=surv\n",
    "            mesh[ica,ib]=mesh[ica,ib]*surv\n",
    "    \n",
    "    correctedmeshes.append(mesh)\n",
    "    survivalfractions.append(survmesh)"
   ]
  },
  {
   "cell_type": "code",
   "execution_count": 165,
   "metadata": {},
   "outputs": [],
   "source": [
    "intensity = []\n",
    "beta      = []\n",
    "alpha     = []\n",
    "\n",
    "cosa_mesh, b_mesh=np.meshgrid(cosas, bs)\n",
    "alpha_=np.arccos(cosas-4e-16) # 4e-16 factor introduced to remove erroneous cosas > 1\n",
    "\n",
    "totalflux=np.zeros_like(correctedmeshes[0])\n",
    "for m in correctedmeshes:\n",
    "    totalflux+=m\n",
    "\n",
    "# Loop over the flux bins and get alpha and beta values to save to file\n",
    "for y in range(0, len(totalflux)):\n",
    "    for x in range(0, len(totalflux[y])):\n",
    "        intensity.append(totalflux[y][x])\n",
    "        beta.append(bs[x]+np.pi)\n",
    "        alpha.append(alpha_[y])\n",
    "\n",
    "# Create a dictionary of the intensity, alpha and beta values to store\n",
    "dict_ = {'Intenisty':intensity, 'beta': beta, 'alpha': alpha}\n",
    "\n",
    "# Dataframe from the dictionary\n",
    "dataframe = pd.DataFrame(dict_)\n",
    "\n",
    "# Write the data from hdf5 format to csv for reading into nexus\n",
    "filepath = Path('SimulatedMuonsFromProposal.csv')  \n",
    "dataframe.to_csv(filepath, index = False, header = False)  \n",
    "\n",
    "# Save the bin edges to the file too\n",
    "\n",
    "# Bin edges\n",
    "binEdges_beta = np.linspace(0, 2*np.pi,30)\n",
    "\n",
    "binEdges_alpha = np.linspace(0.4, 1, 31)\n",
    "binEdges_alpha = binEdges_alpha[::-1]\n",
    "binEdges_alpha = np.arccos(binEdges_alpha)\n",
    "\n",
    "\n",
    "header_alpha=['alpha']\n",
    "header_beta = ['beta']\n",
    "with open(r'SimulatedMuonsFromProposal.csv', 'a') as f:\n",
    "    writer = csv.writer(f)\n",
    "    writer.writerow(header_alpha)\n",
    "\n",
    "    # Write the alpha bin edges\n",
    "    \n",
    "\n"
   ]
  },
  {
   "cell_type": "markdown",
   "metadata": {},
   "source": [
    "# Get the bin smear edges"
   ]
  },
  {
   "cell_type": "code",
   "execution_count": 166,
   "metadata": {},
   "outputs": [
    {
     "name": "stdout",
     "output_type": "stream",
     "text": [
      "[0.20033484232311913, 0.08345926688520847, 0.06437191206463311, 0.05454982030770078, 0.04831097021560088, 0.04390731454463315, 0.04059252797349233, 0.037986450108708936, 0.03587220360769827, 0.034115800762489434, 0.03262940076737708, 0.03135270221868158, 0.030242756673905857, 0.029268039408617774, 0.028404822322277035, 0.027634861950832423, 0.026943873789830985, 0.026320495243533637, 0.02575556242418431, 0.025241594409087353, 0.02477241812103337, 0.024342890671188888, 0.023948690601140354, 0.023586158703977844, 0.0232521750976451, 0.022944063193710784, 0.022659513885635807, 0.02239652512312884, 0.022153353325937486, 0.021928474002397946]\n"
     ]
    }
   ],
   "source": [
    "smears = []\n",
    "\n",
    "# Get the smear vector for the zenith\n",
    "for indx in range(0, len(alpha_)-1):\n",
    "    smears.append( -1*(alpha_[indx+1] - alpha_[indx]))\n",
    "\n",
    "smears = smears[::-1]\n",
    "print(smears)"
   ]
  }
 ],
 "metadata": {
  "interpreter": {
   "hash": "b231a68a91da1db1ebdbfd069e9ff05443c9f2b601e5554290b4174413511e05"
  },
  "kernelspec": {
   "display_name": "Python 3.10.0 ('deflection')",
   "language": "python",
   "name": "python3"
  },
  "language_info": {
   "codemirror_mode": {
    "name": "ipython",
    "version": 3
   },
   "file_extension": ".py",
   "mimetype": "text/x-python",
   "name": "python",
   "nbconvert_exporter": "python",
   "pygments_lexer": "ipython3",
   "version": "3.10.0"
  },
  "orig_nbformat": 4
 },
 "nbformat": 4,
 "nbformat_minor": 2
}
