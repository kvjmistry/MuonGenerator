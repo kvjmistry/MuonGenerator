{
 "cells": [
  {
   "cell_type": "code",
   "execution_count": 114,
   "metadata": {},
   "outputs": [],
   "source": [
    "import matplotlib as mpl\n",
    "import numpy as np\n",
    "import scipy \n",
    "import pickle\n",
    "import pylab as plt\n",
    "import copy\n",
    "import pandas as pd\n",
    "from pathlib import Path\n",
    "%matplotlib inline\n",
    "import csv   "
   ]
  },
  {
   "cell_type": "markdown",
   "metadata": {},
   "source": [
    "#### Script Description\n",
    "\n",
    "This script takes in the MCeQ flux file and converts into a csv format\n",
    "along with the bin edges."
   ]
  },
  {
   "cell_type": "code",
   "execution_count": 115,
   "metadata": {},
   "outputs": [
    {
     "data": {
      "text/plain": [
       "dict_keys([100, 300, 400, 450, 500, 550, 600, 650, 700, 800, 900, 1000, 2000, 4000, 6000])"
      ]
     },
     "execution_count": 115,
     "metadata": {},
     "output_type": "execute_result"
    }
   ],
   "source": [
    "# Load in the files\n",
    "f=open(\"./MCEqFluxMeshes.pkl\",\"rb\")\n",
    "EBins, cosas, bs, FluxMeshes= pickle.load(f)\n",
    "f.close()\n",
    "\n",
    "f=open(\"./LinInterps.pkl\",\"rb\")\n",
    "LinInterps=pickle.load(f)\n",
    "f.close()\n",
    "\n",
    "LinInterps.keys()"
   ]
  },
  {
   "cell_type": "code",
   "execution_count": 116,
   "metadata": {},
   "outputs": [],
   "source": [
    "eps=0.01\n",
    "survivalfractions=[]\n",
    "correctedmeshes=[]\n",
    "\n",
    "for ei in range(0,len(EBins)-2):\n",
    "    \n",
    "    mesh=copy.copy(FluxMeshes[ei])\n",
    "    survmesh=np.zeros_like(mesh)\n",
    "    \n",
    "    for ica in range(len(cosas)):\n",
    "    \n",
    "        for ib in range(len(bs)):\n",
    "            surv=LinInterps[EBins[ei]](cosas[ica]+eps,bs[ib])\n",
    "            survmesh[ica,ib]=surv\n",
    "            mesh[ica,ib]=mesh[ica,ib]*surv\n",
    "    \n",
    "    correctedmeshes.append(mesh)\n",
    "    survivalfractions.append(survmesh)"
   ]
  },
  {
   "cell_type": "code",
   "execution_count": 117,
   "metadata": {},
   "outputs": [],
   "source": [
    "intensity = []\n",
    "azimuth      = []\n",
    "zenith     = []\n",
    "\n",
    "\n",
    "cosa_mesh, b_mesh=np.meshgrid(cosas, bs)\n",
    "zenith_=np.arccos(cosas-4e-16) # 4e-16 factor introduced to remove erroneous cosas > 1\n",
    "\n",
    "totalflux=np.zeros_like(correctedmeshes[0])\n",
    "for m in correctedmeshes:\n",
    "    totalflux+=m\n",
    "\n",
    "\n",
    "# Loop over the flux bins and get zenith and azimuth values to save to file\n",
    "for y in range(0, len(totalflux)):\n",
    "    for x in range(0, len(totalflux[y])):\n",
    "\n",
    "        if (zenith_[y] != 0):\n",
    "            intensity.append(totalflux[y][x])\n",
    "            azimuth.append(bs[x]+np.pi)\n",
    "            zenith.append(zenith_[y])\n",
    "\n",
    "# Create a dictionary of the intensity, zenith and azimuth values to store\n",
    "dict_ = {'Intensity':intensity, 'azimuth': azimuth, 'zenith': zenith}\n",
    "\n",
    "# Dataframe from the dictionary\n",
    "dataframe = pd.DataFrame(dict_)\n",
    "\n",
    "# Write the data from hdf5 format to csv for reading into nexus\n",
    "filepath = Path('SimulatedMuonsProposalMCEq.csv')  \n",
    "dataframe.to_csv(filepath, index = False, header = False)  \n",
    "\n",
    "# Save the bin edges to the file too\n",
    "\n",
    "# Bin edges, shift to the left by the bin width/2 so bin center and edges are well defined\n",
    "binEdges_azimuth = np.linspace(0-0.21666156/2.0, 2*np.pi-0.21666156/2.0,30)\n",
    "\n",
    "binEdges_zenith = np.linspace(0.4-0.02/2.0, 1-0.02/2.0, 31)\n",
    "binEdges_zenith = binEdges_zenith[::-1]\n",
    "binEdges_zenith = np.arccos(binEdges_zenith)\n",
    "\n",
    "\n",
    "# Add the edge bins\n",
    "binEdges_azimuth_ = np.append(binEdges_azimuth,[2*np.pi])\n",
    "binEdges_zenith_  = np.append([0], binEdges_zenith)\n",
    "\n",
    "with open(r'SimulatedMuonsProposalMCEq.csv', 'a') as f:\n",
    "    writer = csv.writer(f)\n",
    "    \n",
    "    # Write the zenith bin edges\n",
    "    for i in range(len(binEdges_zenith_)):\n",
    "        writer.writerow(['zenith', binEdges_zenith_[i]])\n",
    "\n",
    "    # Write the zenith bin edges\n",
    "    for i in range(len(binEdges_azimuth_)):\n",
    "        writer.writerow(['azimuth',binEdges_azimuth_[i]])\n"
   ]
  },
  {
   "cell_type": "code",
   "execution_count": 118,
   "metadata": {},
   "outputs": [
    {
     "data": {
      "image/png": "[encoded data removed]",
      "text/plain": [
       "<Figure size 432x288 with 1 Axes>"
      ]
     },
     "metadata": {
      "needs_background": "light"
     },
     "output_type": "display_data"
    }
   ],
   "source": [
    "# Plot the histogram as a test\n",
    "h, xedges, yedges, image = hist_data= plt.hist2d(dataframe[\"azimuth\"], dataframe[\"zenith\"], weights=dataframe[\"Intensity\"], bins=[binEdges_azimuth, binEdges_zenith]) \n"
   ]
  }
 ],
 "metadata": {
  "interpreter": {
   "hash": "b231a68a91da1db1ebdbfd069e9ff05443c9f2b601e5554290b4174413511e05"
  },
  "kernelspec": {
   "display_name": "Python 3.10.0 ('deflection')",
   "language": "python",
   "name": "python3"
  },
  "language_info": {
   "codemirror_mode": {
    "name": "ipython",
    "version": 3
   },
   "file_extension": ".py",
   "mimetype": "text/x-python",
   "name": "python",
   "nbconvert_exporter": "python",
   "pygments_lexer": "ipython3",
   "version": "3.10.0"
  },
  "orig_nbformat": 4
 },
 "nbformat": 4,
 "nbformat_minor": 2
}
