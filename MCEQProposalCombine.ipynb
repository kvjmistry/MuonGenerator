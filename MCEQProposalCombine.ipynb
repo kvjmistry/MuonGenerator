{
 "cells": [
  {
   "cell_type": "code",
   "execution_count": null,
   "metadata": {},
   "outputs": [],
   "source": [
    "import matplotlib as mpl\n",
    "import numpy as np\n",
    "import scipy \n",
    "import pickle\n",
    "import pylab as plt\n",
    "import copy\n",
    "%matplotlib inline"
   ]
  }
 ],
 "metadata": {
  "interpreter": {
   "hash": "b231a68a91da1db1ebdbfd069e9ff05443c9f2b601e5554290b4174413511e05"
  },
  "kernelspec": {
   "display_name": "Python 3.10.0 ('deflection')",
   "language": "python",
   "name": "python3"
  },
  "language_info": {
   "name": "python",
   "version": "3.10.0"
  },
  "orig_nbformat": 4
 },
 "nbformat": 4,
 "nbformat_minor": 2
}
