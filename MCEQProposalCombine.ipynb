{
 "cells": [
  {
   "cell_type": "code",
   "execution_count": 7,
   "metadata": {},
   "outputs": [],
   "source": [
    "import matplotlib as mpl\n",
    "import numpy as np\n",
    "import scipy \n",
    "import pickle\n",
    "import pylab as plt\n",
    "import copy\n",
    "import pandas as pd\n",
    "from pathlib import Path\n",
    "%matplotlib inline"
   ]
  },
  {
   "cell_type": "code",
   "execution_count": 8,
   "metadata": {},
   "outputs": [],
   "source": [
    "f=open(\"./MCEqFluxMeshes.pkl\",\"rb\")\n",
    "EBins, cosas, bs, FluxMeshes= pickle.load(f)\n",
    "f.close()\n",
    "\n",
    "f=open(\"./LinInterps.pkl\",\"rb\")\n",
    "LinInterps=pickle.load(f)\n",
    "f.close()"
   ]
  },
  {
   "cell_type": "code",
   "execution_count": 9,
   "metadata": {},
   "outputs": [
    {
     "data": {
      "text/plain": [
       "dict_keys([100, 300, 400, 450, 500, 550, 600, 650, 700, 800, 900, 1000, 2000, 4000, 6000])"
      ]
     },
     "execution_count": 9,
     "metadata": {},
     "output_type": "execute_result"
    }
   ],
   "source": [
    "f=open(\"./LinInterps.pkl\",\"rb\")\n",
    "LinInterps=pickle.load(f)\n",
    "f.close()\n",
    "\n",
    "LinInterps.keys()"
   ]
  },
  {
   "cell_type": "code",
   "execution_count": 10,
   "metadata": {},
   "outputs": [],
   "source": [
    "eps=0.01\n",
    "survivalfractions=[]\n",
    "correctedmeshes=[]\n",
    "\n",
    "for ei in range(0,len(EBins)-2):\n",
    "    \n",
    "    mesh=copy.copy(FluxMeshes[ei])\n",
    "    survmesh=np.zeros_like(mesh)\n",
    "    \n",
    "    for ica in range(len(cosas)):\n",
    "    \n",
    "        for ib in range(len(bs)):\n",
    "            surv=LinInterps[EBins[ei]](cosas[ica]+eps,bs[ib])\n",
    "            survmesh[ica,ib]=surv\n",
    "            mesh[ica,ib]=mesh[ica,ib]*surv\n",
    "    \n",
    "    correctedmeshes.append(mesh)\n",
    "    survivalfractions.append(survmesh)"
   ]
  },
  {
   "cell_type": "code",
   "execution_count": 11,
   "metadata": {},
   "outputs": [
    {
     "name": "stdout",
     "output_type": "stream",
     "text": [
      "[0.4  0.42 0.44 0.46 0.48 0.5  0.52 0.54 0.56 0.58 0.6  0.62 0.64 0.66\n",
      " 0.68 0.7  0.72 0.74 0.76 0.78 0.8  0.82 0.84 0.86 0.88 0.9  0.92 0.94\n",
      " 0.96 0.98 1.  ]\n",
      "31\n",
      "[       nan 0.20033484 0.28379411 0.34816602 0.40271584 0.45102681\n",
      " 0.49493413 0.53552665 0.5735131  0.60938531 0.64350111 0.67613051\n",
      " 0.70748321 0.73772597 0.76699401 0.79539883 0.82303369 0.84997757\n",
      " 0.87629806 0.90205362 0.92729522 0.95206764 0.97641053 1.00035922\n",
      " 1.02394538 1.04719755 1.07014161 1.09280113 1.11519765 1.13735101\n",
      " 1.15927948]\n"
     ]
    },
    {
     "name": "stderr",
     "output_type": "stream",
     "text": [
      "/var/folders/tr/r0bv1gl52_vb7v8bswkb_z0nb301gc/T/ipykernel_59507/3313509476.py:13: RuntimeWarning: invalid value encountered in arccos\n",
      "  alpha_ = np.arccos(cosas)\n"
     ]
    }
   ],
   "source": [
    "cosa_mesh, b_mesh=np.meshgrid(cosas, bs)\n",
    "a_s=np.arccos(cosas-0.001)\n",
    "\n",
    "totalflux=np.zeros_like(correctedmeshes[0])\n",
    "for m in correctedmeshes:\n",
    "    totalflux+=m\n",
    "\n",
    "\n",
    "intensity = []\n",
    "beta      = []\n",
    "alpha     = []\n",
    "\n",
    "alpha_ = np.arccos(cosas)\n",
    "# print(alpha_)\n",
    "\n",
    "for y in range(0, len(totalflux)):\n",
    "    for x in range(0, len(totalflux[y])):\n",
    "        # print(hist_data[0][y][x], rows[y], columns[x])\n",
    "        intensity.append(totalflux[y][x])\n",
    "        beta.append(bs[x]+np.pi)\n",
    "        alpha.append(alpha_[y])\n",
    "\n",
    "# print(intensity)\n",
    "\n",
    "dict_ = {'Intenisty':intensity, 'beta': beta, 'alpha': alpha}\n",
    "\n",
    "dataframe = pd.DataFrame(dict_)\n",
    "# display(dataframe)\n",
    "\n",
    "# print(np.arccos(cosas))\n",
    "print(cosas)\n",
    "# print(cosas)\n",
    "# print(bs+np.pi)\n",
    "print(len(alpha_))\n",
    "# print(np.shape(totalflux))\n",
    "# print(totalflux)\n",
    "\n",
    "reversed_arr = alpha_[::-1]\n",
    "print(reversed_arr)\n",
    "\n",
    "\n",
    "# Write the data from hdf5 format to csv for reading into nexus\n",
    "filepath = Path('SimulatedMuonsFromProposal.csv')  \n",
    "dataframe.to_csv(filepath, index = False, header = False)  \n"
   ]
  },
  {
   "cell_type": "code",
   "execution_count": 12,
   "metadata": {},
   "outputs": [
    {
     "name": "stdout",
     "output_type": "stream",
     "text": [
      "[nan, 0.0834592668852091, 0.06437191206463344, 0.05454982030770095, 0.04831097021560099, 0.0439073145446332, 0.04059252797349239, 0.03798645010870905, 0.03587220360769827, 0.034115800762489434, 0.03262940076737708, 0.031352702218681694, 0.030242756673905857, 0.029268039408617774, 0.028404822322277035, 0.027634861950832534, 0.026943873789830985, 0.026320495243533637, 0.02575556242418431, 0.025241594409087353, 0.02477241812103337, 0.024342890671188888, 0.023948690601140243, 0.023586158703977844, 0.023252175097645322, 0.022944063193710784, 0.022659513885635807, 0.02239652512312884, 0.022153353325937486, 0.021928474002397946]\n",
      "30\n"
     ]
    }
   ],
   "source": [
    "smears = []\n",
    "\n",
    "# Get the smear vector for the zenith\n",
    "for indx in range(0, len(alpha_)-1):\n",
    "    smears.append( -1*(alpha_[indx+1] - alpha_[indx]))\n",
    "\n",
    "reversed_arr = smears[::-1]\n",
    "print(reversed_arr)\n",
    "\n",
    "print(len(reversed_arr))\n"
   ]
  }
 ],
 "metadata": {
  "interpreter": {
   "hash": "b231a68a91da1db1ebdbfd069e9ff05443c9f2b601e5554290b4174413511e05"
  },
  "kernelspec": {
   "display_name": "Python 3.10.0 ('deflection')",
   "language": "python",
   "name": "python3"
  },
  "language_info": {
   "codemirror_mode": {
    "name": "ipython",
    "version": 3
   },
   "file_extension": ".py",
   "mimetype": "text/x-python",
   "name": "python",
   "nbconvert_exporter": "python",
   "pygments_lexer": "ipython3",
   "version": "3.10.0"
  },
  "orig_nbformat": 4
 },
 "nbformat": 4,
 "nbformat_minor": 2
}
